{
 "cells": [
  {
   "cell_type": "markdown",
   "metadata": {
    "ExecuteTime": {
     "end_time": "2020-08-23T14:48:52.300963Z",
     "start_time": "2020-08-23T14:48:52.280021Z"
    }
   },
   "source": [
    "# Project Briefing"
   ]
  },
  {
   "cell_type": "markdown",
   "metadata": {},
   "source": [
    "## Objective"
   ]
  },
  {
   "cell_type": "markdown",
   "metadata": {},
   "source": [
    "The objective of this project is to build classification models that can predict whether a costumer will default on its credit card payment in the following month"
   ]
  },
  {
   "cell_type": "markdown",
   "metadata": {},
   "source": [
    "## Dataset"
   ]
  },
  {
   "cell_type": "markdown",
   "metadata": {},
   "source": [
    "The data used refers to Taiwanese costumers' behavior in regards to its credit card payments.\n",
    "\n",
    "Dataset contains the following features:\n",
    "\n",
    "- Amount of the given credit (NT dollar): it includes both the individual consumer credit and his/her family (supplementary) credit\n",
    "- Gender\n",
    "- Education\n",
    "- Marital status\n",
    "- Age (year)\n",
    "- History of past payment\n",
    "- Amount of bill statements (NT dollar)\n",
    "- Amount of previous payment (NT dollar)\n",
    "\n",
    "The dataset to be used can be found on http://archive.ics.uci.edu/ml/datasets/default+of+credit+card+clients#"
   ]
  },
  {
   "cell_type": "markdown",
   "metadata": {},
   "source": [
    "# Prediction Models"
   ]
  },
  {
   "cell_type": "markdown",
   "metadata": {},
   "source": [
    "Several different models were trained and tested, such as:\n",
    "- Logistic Regression\n",
    "- K-Nearest Neighbors\n",
    "- Naive Bayes\n",
    "- Decision Tree Classifier\n",
    "- Bagged Trees\n",
    "- Random Forest\n",
    "- XGBoost"
   ]
  },
  {
   "cell_type": "markdown",
   "metadata": {},
   "source": [
    "Out of these, the best performing model was Random Forest"
   ]
  },
  {
   "cell_type": "markdown",
   "metadata": {},
   "source": [
    "![alt text][CM]\n",
    "\n",
    "[CM]: https://raw.githubusercontent.com/fecezar/mod-3-project/master/rf_CM.png \"Confusion Matrix\""
   ]
  },
  {
   "cell_type": "markdown",
   "metadata": {
    "ExecuteTime": {
     "end_time": "2021-01-06T16:31:48.624668Z",
     "start_time": "2021-01-06T16:31:48.557535Z"
    }
   },
   "source": [
    "![alt text](https://raw.githubusercontent.com/fecezar/mod-3-project/master/rf_table.png)"
   ]
  },
  {
   "cell_type": "markdown",
   "metadata": {},
   "source": [
    "The model achieve an **accuracy of 77%** in predicting which costumers would default in the following month."
   ]
  }
 ],
 "metadata": {
  "kernelspec": {
   "display_name": "Python [conda env:learn-env] *",
   "language": "python",
   "name": "conda-env-learn-env-py"
  },
  "language_info": {
   "codemirror_mode": {
    "name": "ipython",
    "version": 3
   },
   "file_extension": ".py",
   "mimetype": "text/x-python",
   "name": "python",
   "nbconvert_exporter": "python",
   "pygments_lexer": "ipython3",
   "version": "3.6.9"
  },
  "toc": {
   "base_numbering": 1,
   "nav_menu": {},
   "number_sections": true,
   "sideBar": true,
   "skip_h1_title": false,
   "title_cell": "Table of Contents",
   "title_sidebar": "Contents",
   "toc_cell": false,
   "toc_position": {},
   "toc_section_display": true,
   "toc_window_display": false
  },
  "varInspector": {
   "cols": {
    "lenName": 16,
    "lenType": 16,
    "lenVar": 40
   },
   "kernels_config": {
    "python": {
     "delete_cmd_postfix": "",
     "delete_cmd_prefix": "del ",
     "library": "var_list.py",
     "varRefreshCmd": "print(var_dic_list())"
    },
    "r": {
     "delete_cmd_postfix": ") ",
     "delete_cmd_prefix": "rm(",
     "library": "var_list.r",
     "varRefreshCmd": "cat(var_dic_list()) "
    }
   },
   "types_to_exclude": [
    "module",
    "function",
    "builtin_function_or_method",
    "instance",
    "_Feature"
   ],
   "window_display": false
  }
 },
 "nbformat": 4,
 "nbformat_minor": 2
}
